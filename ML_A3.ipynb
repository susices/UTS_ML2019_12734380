{
  "nbformat": 4,
  "nbformat_minor": 0,
  "metadata": {
    "colab": {
      "name": "ML_A3.ipynb",
      "provenance": [],
      "collapsed_sections": [],
      "toc_visible": true,
      "include_colab_link": true
    },
    "kernelspec": {
      "name": "python3",
      "display_name": "Python 3"
    }
  },
  "cells": [
    {
      "cell_type": "markdown",
      "metadata": {
        "id": "view-in-github",
        "colab_type": "text"
      },
      "source": [
        "<a href=\"https://colab.research.google.com/github/susices/UTS_ML2019_12734380/blob/master/ML_A3.ipynb\" target=\"_parent\"><img src=\"https://colab.research.google.com/assets/colab-badge.svg\" alt=\"Open In Colab\"/></a>"
      ]
    },
    {
      "cell_type": "markdown",
      "metadata": {
        "id": "fiOkOZ-pkJdn",
        "colab_type": "text"
      },
      "source": [
        "# Quickly generate 3D models using AI"
      ]
    },
    {
      "cell_type": "markdown",
      "metadata": {
        "id": "KsiZqySokOY7",
        "colab_type": "text"
      },
      "source": [
        "# AIMS\n",
        "The goal of this project is to implement a method that enables game production companies to quickly create 3D models based on 2D design drawings or textual descriptions.\n",
        "\n",
        "1.Collect 3D model data from 3D games and create 3D model datasets containing screenshots and textual descriptions of these models.\n",
        "\n",
        "2.Use GAN to train data sets.\n",
        "\n",
        "3.Test the performance of the model after training the GAN model, and continuously adjust the model according to the test results.\n"
      ]
    },
    {
      "cell_type": "markdown",
      "metadata": {
        "id": "jqDTgKbAt8Sb",
        "colab_type": "text"
      },
      "source": [
        "# BACKGROUND\n",
        "\n",
        "3D modeling currently has a wide range of applications, including animation, games, movies and more. The most common and mature method of making 3D modeling is to hire 3D modelers to use 3D modeling software such as Maya, Blender, etc. The 3D model produced by this method can reach a high level, but it also requires a lot of labor and time costs. Techniques related to automatically generating models have also emerged, but the resulting model is only a rough outline of the object.  In the field of games, the current mainstream is still the method of artificially making 3D models."
      ]
    },
    {
      "cell_type": "markdown",
      "metadata": {
        "id": "j_Im3u08w9Jm",
        "colab_type": "text"
      },
      "source": [
        "# RESEARCH PROJECT"
      ]
    },
    {
      "cell_type": "markdown",
      "metadata": {
        "id": "u5q_pqw3w9Io",
        "colab_type": "text"
      },
      "source": [
        "**Significance:**\n",
        "\n",
        "In the field of game development, 3D modeling accounts for a large proportion of the development cost of a 3D game. 3D modeling can make game production companies spend a lot of time and money. In this context, some under-funded game production companies can only reduce the accuracy of 3D models for development, and most independent game makers cannot afford to consider developing 3D game products because of the high cost. If the project is successful and promoted to these under-funded game production companies and independent game producers, they will be able to create the 3D models needed for game products at a lower cost.\n",
        "\n",
        "**Innovation:**\n",
        "\n",
        "The innovation of the project is: Using the GAN model as the core technology, collecting 3D models of various games to make 3D model data sets for training.\n",
        "\n",
        "**Project outline:**\n",
        "1. Pick 3D models for training.\n",
        "2. Build data sets for these 3D models.\n",
        "3. Build a GAN model framework.\n",
        "4. Deploy the model to the equipment needed for training.\n",
        "5. Model iterative training.\n",
        "6. Test model performance.\n",
        "7. Optimize the models\n",
        "8. Develop a GUI for the model.\n",
        "\n",
        "**Gantt chart:**\n",
        "\n",
        "![替代文字](http://47.98.218.142/wp-content/uploads/2019/09/Software-Development.png)\n",
        "\n",
        "**Expectation:**\n",
        "\n",
        "I hope that the project will eventually complete a 3D model generation software for game development companies or independent game creators. The software can quickly generate a prototype through image and text description, and then adjust the parameters of various features through the control panel. The proportion of the person's body, skin color, etc. Finally, the software is exported as a 3D model file.\n",
        "\n",
        "**Benefit:**\n",
        "\n",
        "If the project can finally achieve its goal and develop software that can generate excellent 3D models, this will be a software product with good commercial value. Selling to game development companies and independent developers through monthly or yearly subscription fees, as long as the cost of purchasing and using the software is lower than the cost of their original full-production model, the software will receive good sales.\n",
        "\n",
        "For 3D modelers, using the software does not expose them to loss of profits. Because these modelers understand the 3D model, the software-generated model also requires the modeler to review and adjust the parameters and even further manual modifications. Without the software, there is no need for a modeler. At the same time, due to the emergence of the software, the cost of modeling will decrease, 3D modeling will expand the scope of use, and the job opportunities of modelers should increase.\n",
        "\n",
        "For consumers who buy games, 3D modeling software enables more small companies and independent developers to develop 3D games with better screen performance, so users can play better games."
      ]
    },
    {
      "cell_type": "markdown",
      "metadata": {
        "id": "DxFrBb01kJcd",
        "colab_type": "text"
      },
      "source": [
        "# BUDGET\n",
        "\n",
        "![替代文字](http://47.98.218.142/wp-content/uploads/2019/09/budget.png)"
      ]
    },
    {
      "cell_type": "markdown",
      "metadata": {
        "id": "CFsrMl25eL2h",
        "colab_type": "text"
      },
      "source": [
        "# PERSONNEL\n",
        "\n",
        "![替代文字](http://47.98.218.142/wp-content/uploads/2019/09/personnel.png)"
      ]
    },
    {
      "cell_type": "markdown",
      "metadata": {
        "id": "42fqah-OF6_e",
        "colab_type": "text"
      },
      "source": [
        "# Video Pitch\n",
        "\n",
        "[Link](https://www.youtube.com/watch?v=AhVJYsAdGn0&feature=youtu.be)"
      ]
    }
  ]
}