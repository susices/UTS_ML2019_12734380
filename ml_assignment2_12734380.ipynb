{
  "nbformat": 4,
  "nbformat_minor": 0,
  "metadata": {
    "colab": {
      "name": "ml_assignment2.ipynb",
      "provenance": [],
      "include_colab_link": true
    },
    "kernelspec": {
      "name": "python3",
      "display_name": "Python 3"
    },
    "accelerator": "GPU"
  },
  "cells": [
    {
      "cell_type": "markdown",
      "metadata": {
        "id": "view-in-github",
        "colab_type": "text"
      },
      "source": [
        "<a href=\"https://colab.research.google.com/github/susices/UTS_ML2019_12734380/blob/master/ml_assignment2_12734380.ipynb\" target=\"_parent\"><img src=\"https://colab.research.google.com/assets/colab-badge.svg\" alt=\"Open In Colab\"/></a>"
      ]
    },
    {
      "cell_type": "code",
      "metadata": {
        "id": "y1AoIFMyACit",
        "colab_type": "code",
        "outputId": "9b406372-daec-42d0-8a9b-225e5f81f6d3",
        "colab": {
          "base_uri": "https://localhost:8080/",
          "height": 122
        }
      },
      "source": [
        "from google.colab import drive\n",
        "drive.mount('/content/drive')"
      ],
      "execution_count": 1,
      "outputs": [
        {
          "output_type": "stream",
          "text": [
            "Go to this URL in a browser: https://accounts.google.com/o/oauth2/auth?client_id=947318989803-6bn6qk8qdgf4n4g3pfee6491hc0brc4i.apps.googleusercontent.com&redirect_uri=urn%3Aietf%3Awg%3Aoauth%3A2.0%3Aoob&scope=email%20https%3A%2F%2Fwww.googleapis.com%2Fauth%2Fdocs.test%20https%3A%2F%2Fwww.googleapis.com%2Fauth%2Fdrive%20https%3A%2F%2Fwww.googleapis.com%2Fauth%2Fdrive.photos.readonly%20https%3A%2F%2Fwww.googleapis.com%2Fauth%2Fpeopleapi.readonly&response_type=code\n",
            "\n",
            "Enter your authorization code:\n",
            "··········\n",
            "Mounted at /content/drive\n"
          ],
          "name": "stdout"
        }
      ]
    },
    {
      "cell_type": "markdown",
      "metadata": {
        "id": "gVCXylG8EOkH",
        "colab_type": "text"
      },
      "source": [
        "# 1 Introduction\n",
        "Fashion design has always been the work of fashion designers, and excellent clothing design will be accepted by the clothing market. However, designers need a certain amount of time to design clothes, and there are not many excellent designers. The problem studied in this paper is to use the antagonistic generation network-GAN to let artificial intelligence design apparel.\n",
        "Using the GAN model to train a real clothing data set will produce a new outfit that is different from the original picture, which may give the designer a inspiration or direct use of GAN-generated clothing design content."
      ]
    },
    {
      "cell_type": "markdown",
      "metadata": {
        "id": "edP2Ja_sEQ5d",
        "colab_type": "text"
      },
      "source": [
        "# 2 Exlporation\n",
        "\n",
        "2.1 Data Structure\n",
        "\n",
        "I used images in the project as data for the GAN model.  I used DeepFashion2 as the dataset of this project. This training set contains hundreds of thousands of costume pictures.I used the 50,000 clothes image in this dataset as the dataset for this project.\n",
        "\n",
        "@article{DeepFashion2,\n",
        "  author = {Yuying Ge and Ruimao Zhang and Lingyun Wu and Xiaogang Wang and Xiaoou Tang and Ping Luo},\n",
        "  title={A Versatile Benchmark for Detection, Pose Estimation, Segmentation and Re-Identification of Clothing Images},\n",
        "  journal={CVPR},\n",
        "  year={2019}\n",
        "}\n",
        "\n",
        "Link in GoogleDrive : https://drive.google.com/open?id=1lQZOIkO-9L0QJuk_w1K8-tRuyno-KvLK\n"
      ]
    },
    {
      "cell_type": "markdown",
      "metadata": {
        "id": "5VhK1Tw5pgwS",
        "colab_type": "text"
      },
      "source": [
        "Import librarys."
      ]
    },
    {
      "cell_type": "code",
      "metadata": {
        "id": "OvB1DmtBJSa-",
        "colab_type": "code",
        "colab": {}
      },
      "source": [
        "import os\n",
        "import torch.nn as nn\n",
        "import torch\n",
        "import torch.optim\n",
        "from torchvision.utils import save_image #保存图片\n",
        "\n",
        "from torch.utils.data import DataLoader #读取批次\n",
        "from torch.utils import data\n",
        "from torch.autograd import Variable\n",
        "import time #计时\n",
        "from PIL import Image\n",
        "from collections import Counter\n",
        "from glob import glob\n",
        "from torchvision import transforms, utils\n",
        "from torchvision import datasets\n",
        "import matplotlib.pyplot as plt "
      ],
      "execution_count": 0,
      "outputs": []
    },
    {
      "cell_type": "code",
      "metadata": {
        "id": "p7poKfPC6E2W",
        "colab_type": "code",
        "outputId": "57bf7579-9c5d-4601-fd58-f70b5dbd9da7",
        "colab": {
          "base_uri": "https://localhost:8080/",
          "height": 34
        }
      },
      "source": [
        "torch.cuda.is_available()"
      ],
      "execution_count": 6,
      "outputs": [
        {
          "output_type": "execute_result",
          "data": {
            "text/plain": [
              "True"
            ]
          },
          "metadata": {
            "tags": []
          },
          "execution_count": 6
        }
      ]
    },
    {
      "cell_type": "markdown",
      "metadata": {
        "id": "-U1-6ZS-ppvi",
        "colab_type": "text"
      },
      "source": [
        "Load image dataset from my local device.  \n",
        "Change the size of the image to 128x128."
      ]
    },
    {
      "cell_type": "code",
      "metadata": {
        "id": "K6WlNPB3JTXM",
        "colab_type": "code",
        "colab": {}
      },
      "source": [
        "train_data = datasets.ImageFolder('/content/drive/My Drive/Imagedataset', transform=transforms.Compose([\n",
        "    transforms.RandomResizedCrop(32),\n",
        "    transforms.RandomHorizontalFlip(),\n",
        "    transforms.ToTensor()\n",
        "]))"
      ],
      "execution_count": 0,
      "outputs": []
    },
    {
      "cell_type": "code",
      "metadata": {
        "id": "uuuhDhAKqVma",
        "colab_type": "code",
        "colab": {}
      },
      "source": [
        "dataloader = torch.utils.data.DataLoader(train_data,\n",
        "                                            batch_size=64,\n",
        "                                            shuffle=True,\n",
        "                                            )"
      ],
      "execution_count": 0,
      "outputs": []
    },
    {
      "cell_type": "markdown",
      "metadata": {
        "id": "sZ6rEC18qu_S",
        "colab_type": "text"
      },
      "source": [
        "Show the image dataset from the dataloader."
      ]
    },
    {
      "cell_type": "code",
      "metadata": {
        "id": "7s1X-0BKJWQr",
        "colab_type": "code",
        "outputId": "21b13b64-97e1-4db6-844f-cd853678cf40",
        "colab": {
          "base_uri": "https://localhost:8080/",
          "height": 320
        }
      },
      "source": [
        "for i_batch, img in enumerate(dataloader):\n",
        "    if i_batch == 0:\n",
        "        print(img[1])\n",
        "        fig = plt.figure()\n",
        "        grid = utils.make_grid(img[0])\n",
        "        plt.imshow(grid.numpy().transpose((1, 2, 0)))\n",
        "        plt.show()\n",
        "    break"
      ],
      "execution_count": 0,
      "outputs": [
        {
          "output_type": "stream",
          "text": [
            "tensor([0, 0, 0, 0, 0, 0, 0, 0, 0, 0, 0, 0, 0, 0, 0, 0, 0, 0, 0, 0, 0, 0, 0, 0,\n",
            "        0, 0, 0, 0, 0, 0, 0, 0, 0, 0, 0, 0, 0, 0, 0, 0, 0, 0, 0, 0, 0, 0, 0, 0,\n",
            "        0, 0, 0, 0, 0, 0, 0, 0, 0, 0, 0, 0, 0, 0, 0, 0])\n"
          ],
          "name": "stdout"
        },
        {
          "output_type": "display_data",
          "data": {
            "image/png": "[encoded data removed]",
            "text/plain": [
              "<Figure size 432x288 with 1 Axes>"
            ]
          },
          "metadata": {
            "tags": []
          }
        }
      ]
    },
    {
      "cell_type": "markdown",
      "metadata": {
        "id": "rcEEYQy1rwNU",
        "colab_type": "text"
      },
      "source": [
        "2.2 Plan Data model\n",
        "\n",
        "The project plans to use the DCGAN model to train the data set.\n",
        "\n",
        "# Introduction of GAN\n",
        "\n",
        "GANs, or Generative Adversarial Networks, are a type of neural network architecture that allow neural networks to generate data.GANs learn a probability distribution of a dataset by pitting two neural networks against each other.\n",
        "\n",
        "One model, the generator, acts akin to a painting forger. It tries to create images that look very similar to the dataset. The other model, the discriminator, acts like the police, and tries to detect whether the images generated were fake or not.\n",
        "![替代文字](https://miro.medium.com/max/1408/1*HKfsgfm-1HLKnXKM7Zseiw.png)\n",
        "\n",
        "GAN loss function:\n",
        "![替代文字](https://miro.medium.com/max/1200/1*14SQSZyve0eUzPGIfRQYKA.png)\n",
        "\n",
        "# Introduction of DCGAN\n",
        "\n",
        "A DCGAN is a direct extension of the GAN described above, except that it explicitly uses convolutional and convolutional-transpose layers in the discriminator and generator, respectively. It was first described by Radford et. al. in the paper Unsupervised Representation Learning With Deep Convolutional Generative Adversarial Networks. The discriminator is made up of strided convolution layers, batch norm layers, and LeakyReLU activations. \n",
        "\n",
        "\n",
        "\n"
      ]
    },
    {
      "cell_type": "markdown",
      "metadata": {
        "id": "eEEEQfI1QEf1",
        "colab_type": "text"
      },
      "source": [
        "# Evaluation Method and Crtiteria\n",
        "\n",
        "Inception Score\n",
        "\n",
        "https://github.com/sbarratt/inception-score-pytorch/blob/master/inception_score.py\n",
        "\n",
        "Inception Score uses two criteria in measuring the performance of GAN:\n",
        "\n",
        "1. The quality of the generated images, and\n",
        "2. their diversity.\n",
        "\n",
        "\n",
        "\n",
        "\n",
        "\n",
        "Fréchet Inception Distance\n",
        "\n",
        "https://github.com/mseitzer/pytorch-fid\n",
        "\n",
        "\n"
      ]
    },
    {
      "cell_type": "markdown",
      "metadata": {
        "id": "eOWQYkL99Ayp",
        "colab_type": "text"
      },
      "source": [
        "**Implementation of the Inception Score method **"
      ]
    },
    {
      "cell_type": "code",
      "metadata": {
        "id": "2avpgmX68nYV",
        "colab_type": "code",
        "colab": {}
      },
      "source": [
        "import torch\n",
        "from torch import nn\n",
        "from torch.autograd import Variable\n",
        "from torch.nn import functional as F\n",
        "import torch.utils.data\n",
        "\n",
        "from torchvision.models.inception import inception_v3\n",
        "\n",
        "import numpy as np\n",
        "from scipy.stats import entropy\n",
        "\n",
        "def inception_score(imgs, cuda=True, batch_size=32, resize=False, splits=1):\n",
        "    \"\"\"Computes the inception score of the generated images imgs\n",
        "    imgs -- Torch dataset of (3xHxW) numpy images normalized in the range [-1, 1]\n",
        "    cuda -- whether or not to run on GPU\n",
        "    batch_size -- batch size for feeding into Inception v3\n",
        "    splits -- number of splits\n",
        "    \"\"\"\n",
        "    N = len(imgs)\n",
        "\n",
        "    assert batch_size > 0\n",
        "    assert N > batch_size\n",
        "\n",
        "    # Set up dtype\n",
        "    if cuda:\n",
        "        dtype = torch.cuda.FloatTensor\n",
        "    else:\n",
        "        if torch.cuda.is_available():\n",
        "            print(\"WARNING: You have a CUDA device, so you should probably set cuda=True\")\n",
        "        dtype = torch.FloatTensor\n",
        "\n",
        "    # Set up dataloader\n",
        "    dataloader = torch.utils.data.DataLoader(imgs, batch_size=batch_size)\n",
        "\n",
        "    # Load inception model\n",
        "    inception_model = inception_v3(pretrained=True, transform_input=False).type(dtype)\n",
        "    inception_model.eval();\n",
        "    up = nn.Upsample(size=(299, 299), mode='bilinear').type(dtype)\n",
        "    def get_pred(x):\n",
        "        if resize:\n",
        "            x = up(x)\n",
        "        x = inception_model(x)\n",
        "        return F.softmax(x).data.cpu().numpy()\n",
        "\n",
        "    # Get predictions\n",
        "    preds = np.zeros((N, 1000))\n",
        "\n",
        "    for i, batch in enumerate(dataloader, 0):\n",
        "        batch = batch.type(dtype)\n",
        "        batchv = Variable(batch)\n",
        "        batch_size_i = batch.size()[0]\n",
        "\n",
        "        preds[i*batch_size:i*batch_size + batch_size_i] = get_pred(batchv)\n",
        "\n",
        "    # Now compute the mean kl-div\n",
        "    split_scores = []\n",
        "\n",
        "    for k in range(splits):\n",
        "        part = preds[k * (N // splits): (k+1) * (N // splits), :]\n",
        "        py = np.mean(part, axis=0)\n",
        "        scores = []\n",
        "        for i in range(part.shape[0]):\n",
        "            pyx = part[i, :]\n",
        "            scores.append(entropy(pyx, py))\n",
        "        split_scores.append(np.exp(np.mean(scores)))\n",
        "\n",
        "    return np.mean(split_scores), np.std(split_scores)\n",
        "\n"
      ],
      "execution_count": 0,
      "outputs": []
    },
    {
      "cell_type": "markdown",
      "metadata": {
        "id": "M_qk7yhVCTSk",
        "colab_type": "text"
      },
      "source": [
        "# 3 Methodology\n"
      ]
    },
    {
      "cell_type": "markdown",
      "metadata": {
        "id": "VN-8ZGRRD4Wi",
        "colab_type": "text"
      },
      "source": [
        "Build the discriminator network"
      ]
    },
    {
      "cell_type": "code",
      "metadata": {
        "id": "WK31IcowJYxD",
        "colab_type": "code",
        "outputId": "6610fa32-2d00-46ea-a231-5f99f45b5531",
        "colab": {
          "base_uri": "https://localhost:8080/",
          "height": 204
        }
      },
      "source": [
        "\n",
        "n_d_feature = 64 \n",
        "n_channel = 3 \n",
        "dnet = nn.Sequential(\n",
        "        nn.Conv2d(n_channel, n_d_feature, kernel_size=4,\n",
        "                 stride=2, padding=1),\n",
        "        nn.LeakyReLU(0.2),\n",
        "        nn.Conv2d(n_d_feature, 2 * n_d_feature, kernel_size=4,\n",
        "                 stride=2, padding=1, bias=False),\n",
        "        nn.BatchNorm2d(2 * n_d_feature),\n",
        "        nn.LeakyReLU(0.2),\n",
        "        nn.Conv2d(2 * n_d_feature, 4 * n_d_feature, kernel_size=4,\n",
        "                 stride=2, padding=1, bias=False),\n",
        "        nn.BatchNorm2d(4 * n_d_feature),\n",
        "        nn.LeakyReLU(0.2),\n",
        "        nn.Conv2d(4 * n_d_feature, 1, kernel_size=4)).cuda()\n",
        "print(dnet)"
      ],
      "execution_count": 9,
      "outputs": [
        {
          "output_type": "stream",
          "text": [
            "Sequential(\n",
            "  (0): Conv2d(3, 64, kernel_size=(4, 4), stride=(2, 2), padding=(1, 1))\n",
            "  (1): LeakyReLU(negative_slope=0.2)\n",
            "  (2): Conv2d(64, 128, kernel_size=(4, 4), stride=(2, 2), padding=(1, 1), bias=False)\n",
            "  (3): BatchNorm2d(128, eps=1e-05, momentum=0.1, affine=True, track_running_stats=True)\n",
            "  (4): LeakyReLU(negative_slope=0.2)\n",
            "  (5): Conv2d(128, 256, kernel_size=(4, 4), stride=(2, 2), padding=(1, 1), bias=False)\n",
            "  (6): BatchNorm2d(256, eps=1e-05, momentum=0.1, affine=True, track_running_stats=True)\n",
            "  (7): LeakyReLU(negative_slope=0.2)\n",
            "  (8): Conv2d(256, 1, kernel_size=(4, 4), stride=(1, 1))\n",
            ")\n"
          ],
          "name": "stdout"
        }
      ]
    },
    {
      "cell_type": "markdown",
      "metadata": {
        "id": "7eF6wRXpD2oK",
        "colab_type": "text"
      },
      "source": [
        "Build the generator network"
      ]
    },
    {
      "cell_type": "code",
      "metadata": {
        "id": "IAw4y5qZJeEb",
        "colab_type": "code",
        "outputId": "a230e0a4-a4f7-4547-df83-3a3ee7642b78",
        "colab": {
          "base_uri": "https://localhost:8080/",
          "height": 238
        }
      },
      "source": [
        "\n",
        "latent_size = 100 \n",
        "n_g_feature = 64 \n",
        "\n",
        "gnet = nn.Sequential(\n",
        "        nn.ConvTranspose2d(latent_size, 4 * n_g_feature, kernel_size=4,\n",
        "                          bias=False),\n",
        "        nn.BatchNorm2d(4 * n_g_feature),\n",
        "        nn.ReLU(),\n",
        "        nn.ConvTranspose2d(4 * n_g_feature, 2 * n_g_feature, kernel_size=4,\n",
        "                          stride=2, padding=1, bias=False),\n",
        "        nn.BatchNorm2d(2 * n_g_feature),\n",
        "        nn.ReLU(),\n",
        "        nn.ConvTranspose2d(2 * n_g_feature, n_g_feature, kernel_size=4,\n",
        "                          stride=2, padding=1, bias=False),\n",
        "        nn.BatchNorm2d(n_g_feature),\n",
        "        nn.ReLU(),\n",
        "        nn.ConvTranspose2d(n_g_feature, n_channel, kernel_size=4,\n",
        "                          stride=2, padding=1),\n",
        "        nn.Sigmoid()).cuda()\n",
        "print(gnet)"
      ],
      "execution_count": 10,
      "outputs": [
        {
          "output_type": "stream",
          "text": [
            "Sequential(\n",
            "  (0): ConvTranspose2d(100, 256, kernel_size=(4, 4), stride=(1, 1), bias=False)\n",
            "  (1): BatchNorm2d(256, eps=1e-05, momentum=0.1, affine=True, track_running_stats=True)\n",
            "  (2): ReLU()\n",
            "  (3): ConvTranspose2d(256, 128, kernel_size=(4, 4), stride=(2, 2), padding=(1, 1), bias=False)\n",
            "  (4): BatchNorm2d(128, eps=1e-05, momentum=0.1, affine=True, track_running_stats=True)\n",
            "  (5): ReLU()\n",
            "  (6): ConvTranspose2d(128, 64, kernel_size=(4, 4), stride=(2, 2), padding=(1, 1), bias=False)\n",
            "  (7): BatchNorm2d(64, eps=1e-05, momentum=0.1, affine=True, track_running_stats=True)\n",
            "  (8): ReLU()\n",
            "  (9): ConvTranspose2d(64, 3, kernel_size=(4, 4), stride=(2, 2), padding=(1, 1))\n",
            "  (10): Sigmoid()\n",
            ")\n"
          ],
          "name": "stdout"
        }
      ]
    },
    {
      "cell_type": "markdown",
      "metadata": {
        "id": "SozgXDABD0Cc",
        "colab_type": "text"
      },
      "source": [
        "Initialize the network"
      ]
    },
    {
      "cell_type": "code",
      "metadata": {
        "id": "n5WOlbk7J-w7",
        "colab_type": "code",
        "outputId": "4d1269fc-40ea-43bf-b869-12281397fdab",
        "colab": {
          "base_uri": "https://localhost:8080/",
          "height": 204
        }
      },
      "source": [
        "\n",
        "import torch.nn.init as init\n",
        "def weights_init(m):\n",
        "    if type(m) in [nn.ConvTranspose2d, nn.Conv2d]:\n",
        "        init.xavier_normal_(m.weight)\n",
        "    elif type(m) == nn.BatchNorm2d:\n",
        "        init.normal_(m.weight, 1.0, 0.02)\n",
        "        init.constant_(m.bias, 0)\n",
        "        \n",
        "gnet.apply(weights_init)\n",
        "dnet.apply(weights_init)"
      ],
      "execution_count": 11,
      "outputs": [
        {
          "output_type": "execute_result",
          "data": {
            "text/plain": [
              "Sequential(\n",
              "  (0): Conv2d(3, 64, kernel_size=(4, 4), stride=(2, 2), padding=(1, 1))\n",
              "  (1): LeakyReLU(negative_slope=0.2)\n",
              "  (2): Conv2d(64, 128, kernel_size=(4, 4), stride=(2, 2), padding=(1, 1), bias=False)\n",
              "  (3): BatchNorm2d(128, eps=1e-05, momentum=0.1, affine=True, track_running_stats=True)\n",
              "  (4): LeakyReLU(negative_slope=0.2)\n",
              "  (5): Conv2d(128, 256, kernel_size=(4, 4), stride=(2, 2), padding=(1, 1), bias=False)\n",
              "  (6): BatchNorm2d(256, eps=1e-05, momentum=0.1, affine=True, track_running_stats=True)\n",
              "  (7): LeakyReLU(negative_slope=0.2)\n",
              "  (8): Conv2d(256, 1, kernel_size=(4, 4), stride=(1, 1))\n",
              ")"
            ]
          },
          "metadata": {
            "tags": []
          },
          "execution_count": 11
        }
      ]
    },
    {
      "cell_type": "markdown",
      "metadata": {
        "id": "C5AtYYmeEJbE",
        "colab_type": "text"
      },
      "source": [
        "Load the checkpoint of gpu training model "
      ]
    },
    {
      "cell_type": "code",
      "metadata": {
        "id": "1OoiKygSJ_YT",
        "colab_type": "code",
        "outputId": "ab98188f-ee94-4d22-91f0-30ccc7a0a833",
        "colab": {
          "base_uri": "https://localhost:8080/",
          "height": 34
        }
      },
      "source": [
        "checkpoint_d = torch.load('/content/drive/My Drive/D.pth')\n",
        "checkpoint_g = torch.load('/content/drive/My Drive/G.pth')\n",
        "dnet.load_state_dict(checkpoint_d)\n",
        "gnet.load_state_dict(checkpoint_g)"
      ],
      "execution_count": 0,
      "outputs": [
        {
          "output_type": "execute_result",
          "data": {
            "text/plain": [
              "IncompatibleKeys(missing_keys=[], unexpected_keys=[])"
            ]
          },
          "metadata": {
            "tags": []
          },
          "execution_count": 27
        }
      ]
    },
    {
      "cell_type": "markdown",
      "metadata": {
        "id": "U3WXrHkHEUHr",
        "colab_type": "text"
      },
      "source": [
        "Define loss and optimizer"
      ]
    },
    {
      "cell_type": "code",
      "metadata": {
        "id": "Kll-18XYKDNz",
        "colab_type": "code",
        "colab": {}
      },
      "source": [
        "\n",
        "criterion = nn.BCEWithLogitsLoss().cuda()\n",
        "\n",
        "goptimizer = torch.optim.Adam(gnet.parameters(),\n",
        "                             lr=0.0002, betas=(0.5, 0.999))\n",
        "doptimizer = torch.optim.Adam(dnet.parameters(),\n",
        "                             lr=0.0002, betas=(0.5, 0.999))"
      ],
      "execution_count": 0,
      "outputs": []
    },
    {
      "cell_type": "markdown",
      "metadata": {
        "id": "hTxB3XjOEhTb",
        "colab_type": "text"
      },
      "source": [
        "Generate noise data and input data to the G network"
      ]
    },
    {
      "cell_type": "code",
      "metadata": {
        "id": "Z8RwPE8VKF2j",
        "colab_type": "code",
        "colab": {}
      },
      "source": [
        "batch_size = 64\n",
        "fixed_noise = torch.randn(batch_size, latent_size, 1, 1).cuda()\n",
        "cuda = True if torch.cuda.is_available() else False\n",
        "Tensor = torch.cuda.FloatTensor if cuda else torch.FloatTensor"
      ],
      "execution_count": 0,
      "outputs": []
    },
    {
      "cell_type": "markdown",
      "metadata": {
        "id": "e9JSjV2qEtuL",
        "colab_type": "text"
      },
      "source": [
        "Start Training"
      ]
    },
    {
      "cell_type": "code",
      "metadata": {
        "id": "fptBOvSKKInL",
        "colab_type": "code",
        "outputId": "d9259be4-3e34-4d07-a98c-45446aa83f76",
        "colab": {
          "base_uri": "https://localhost:8080/",
          "height": 1000
        }
      },
      "source": [
        "\n",
        "start = time.time() \n",
        "\n",
        "epoch_num = 20\n",
        "for epoch in range(epoch_num):\n",
        "    for batch_idx, Data in enumerate(dataloader):\n",
        "        real_images, _ = Data\n",
        "        batch_size = real_images.shape[0]\n",
        "        \n",
        "       \n",
        "        labels = torch.ones(batch_size)\n",
        "        \n",
        "        preds = dnet(Variable(real_images.type(Tensor))) \n",
        "        outputs = preds.reshape(-1) \n",
        "        dloss_real = criterion(outputs, labels.type(Tensor))\n",
        "        dmean_real = outputs.sigmoid().mean() 示\n",
        "        \n",
        "        noises = torch.randn(batch_size, latent_size, 1, 1)\n",
        "        fake_images = gnet(noises.type(Tensor)) \n",
        "        labels = torch.zeros(batch_size)\n",
        "        fake = fake_images.detach() \n",
        "        preds = dnet(fake)\n",
        "        outputs = preds.reshape(-1)\n",
        "        dloss_fake = criterion(outputs.type(Tensor), labels.type(Tensor))\n",
        "        dmean_fake = outputs.sigmoid().mean() \n",
        "        \n",
        "        dloss = dloss_real + dloss_fake \n",
        "        dnet.zero_grad()\n",
        "        dloss.backward()\n",
        "        doptimizer.step()\n",
        "        \n",
        "        \n",
        "        labels = torch.ones(batch_size)\n",
        "        preds = dnet(fake_images)\n",
        "        outputs = preds.reshape(-1)\n",
        "        gloss = criterion(outputs.type(Tensor), labels.type(Tensor))\n",
        "        gmean_fake = outputs.sigmoid().mean() \n",
        "        \n",
        "        gnet.zero_grad()\n",
        "        gloss.backward()\n",
        "        goptimizer.step()\n",
        "        \n",
        "        \n",
        "        print('[{}/{}]'.format(epoch, epoch_num) + '[{}/{}]'.format(batch_idx, len(dataloader)) +\n",
        "             'Discriminator Loss:{:g} Generator Loss：{:g}'.format(dloss, gloss) + \n",
        "             'Ratio of jugde true data is true：{:g} Ratio of jugde false data is true：{:g}/{:g}'.format(dmean_real, dmean_fake, gmean_fake))\n",
        "        if batch_idx % 100 == 0:\n",
        "            fake = gnet(fixed_noise) \n",
        "            path = '/content/drive/My Drive/Imagedataset/gpu{:02d}_batch{:03d}.png'.format(epoch, batch_idx)\n",
        "            save_image(fake, path, normalize=False)\n",
        "            \n",
        "end = time.time()\n",
        "print((end - start)/60) "
      ],
      "execution_count": 0,
      "outputs": [
        {
          "output_type": "stream",
          "text": [
            "[0/20][0/8]鉴别器G损失:0.416424 生成器D损失：2.4175真数据判真比例：0.815199 假数据判真比例：0.166647/0.111117\n",
            "[0/20][1/8]鉴别器G损失:0.469788 生成器D损失：5.64115真数据判真比例：0.944747 假数据判真比例：0.300262/0.00630704\n",
            "[0/20][2/8]鉴别器G损失:0.516605 生成器D损失：2.85426真数据判真比例：0.658006 假数据判真比例：0.0237057/0.0837634\n",
            "[0/20][3/8]鉴别器G损失:0.575225 生成器D损失：2.23284真数据判真比例：0.790968 假数据判真比例：0.244329/0.145861\n",
            "[0/20][4/8]鉴别器G损失:0.860752 生成器D损失：4.11406真数据判真比例：0.854985 假数据判真比例：0.442219/0.0249523\n",
            "[0/20][5/8]鉴别器G损失:0.725893 生成器D损失：2.24685真数据判真比例：0.571146 假数据判真比例：0.078456/0.128018\n",
            "[0/20][6/8]鉴别器G损失:0.618207 生成器D损失：2.83711真数据判真比例：0.836602 假数据判真比例：0.331513/0.0712484\n",
            "[0/20][7/8]鉴别器G损失:0.788422 生成器D损失：2.14865真数据判真比例：0.633233 假数据判真比例：0.228704/0.132686\n",
            "[1/20][0/8]鉴别器G损失:0.683535 生成器D损失：3.39769真数据判真比例：0.816821 假数据判真比例：0.348943/0.0438375\n",
            "[1/20][1/8]鉴别器G损失:0.515436 生成器D损失：2.12115真数据判真比例：0.685362 假数据判真比例：0.0950429/0.132807\n",
            "[1/20][2/8]鉴别器G损失:0.491591 生成器D损失：3.62505真数据判真比例：0.899851 假数据判真比例：0.307184/0.0313687\n",
            "[1/20][3/8]鉴别器G损失:0.600847 生成器D损失：1.94313真数据判真比例：0.654402 假数据判真比例：0.119296/0.175375\n",
            "[1/20][4/8]鉴别器G损失:0.594231 生成器D损失：4.34502真数据判真比例：0.941016 假数据判真比例：0.393458/0.0149875\n",
            "[1/20][5/8]鉴别器G损失:0.625292 生成器D损失：2.28805真数据判真比例：0.598549 假数据判真比例：0.0531707/0.133109\n",
            "[1/20][6/8]鉴别器G损失:0.765844 生成器D损失：3.01864真数据判真比例：0.81257 假数据判真比例：0.400178/0.0630259\n",
            "[1/20][7/8]鉴别器G损失:0.638302 生成器D损失：2.43695真数据判真比例：0.706425 假数据判真比例：0.199627/0.107916\n",
            "[2/20][0/8]鉴别器G损失:0.516135 生成器D损失：3.20233真数据判真比例：0.834198 假数据判真比例：0.262605/0.0473823\n",
            "[2/20][1/8]鉴别器G损失:0.602329 生成器D损失：1.91549真数据判真比例：0.68602 假数据判真比例：0.155735/0.170132\n",
            "[2/20][2/8]鉴别器G损失:0.525462 生成器D损失：4.08742真数据判真比例：0.891912 假数据判真比例：0.313744/0.0207152\n",
            "[2/20][3/8]鉴别器G损失:0.639573 生成器D损失：1.80142真数据判真比例：0.616676 假数据判真比例：0.0752213/0.205563\n",
            "[2/20][4/8]鉴别器G损失:0.721965 生成器D损失：4.33137真数据判真比例：0.918753 假数据判真比例：0.426353/0.0184603\n",
            "[2/20][5/8]鉴别器G损失:0.490667 生成器D损失：3.14292真数据判真比例：0.688758 假数据判真比例：0.0692162/0.0601522\n",
            "[2/20][6/8]鉴别器G损失:0.595341 生成器D损失：2.04875真数据判真比例：0.752699 假数据判真比例：0.218219/0.159386\n",
            "[2/20][7/8]鉴别器G损失:0.914268 生成器D损失：4.43699真数据判真比例：0.797512 假数据判真比例：0.435953/0.0170173\n",
            "[3/20][0/8]鉴别器G损失:0.783385 生成器D损失：2.03683真数据判真比例：0.566001 假数据判真比例：0.0934095/0.162488\n",
            "[3/20][1/8]鉴别器G损失:0.704243 生成器D损失：2.59447真数据判真比例：0.78477 假数据判真比例：0.323908/0.0970485\n",
            "[3/20][2/8]鉴别器G损失:0.747949 生成器D损失：3.66239真数据判真比例：0.776395 假数据判真比例：0.343158/0.0328804\n",
            "[3/20][3/8]鉴别器G损失:0.750306 生成器D损失：1.78946真数据判真比例：0.561581 假数据判真比例：0.0672214/0.197435\n",
            "[3/20][4/8]鉴别器G损失:0.870307 生成器D损失：3.65175真数据判真比例：0.839858 假数据判真比例：0.457182/0.0336425\n",
            "[3/20][5/8]鉴别器G损失:0.54201 生成器D损失：2.87501真数据判真比例：0.694943 假数据判真比例：0.123419/0.0746229\n",
            "[3/20][6/8]鉴别器G损失:0.733112 生成器D损失：1.82624真数据判真比例：0.660201 假数据判真比例：0.209948/0.207549\n",
            "[3/20][7/8]鉴别器G损失:0.800332 生成器D损失：4.10366真数据判真比例：0.90927 假数据判真比例：0.452684/0.0245994\n",
            "[4/20][0/8]鉴别器G损失:0.794196 生成器D损失：1.80036真数据判真比例：0.581952 假数据判真比例：0.0836736/0.204437\n",
            "[4/20][1/8]鉴别器G损失:0.681087 生成器D损失：3.30835真数据判真比例：0.89432 假数据判真比例：0.378448/0.0559585\n",
            "[4/20][2/8]鉴别器G损失:0.617495 生成器D损失：2.87066真数据判真比例：0.723901 假数据判真比例：0.206048/0.0777354\n",
            "[4/20][3/8]鉴别器G损失:0.737236 生成器D损失：1.87862真数据判真比例：0.684073 假数据判真比例：0.241177/0.182244\n",
            "[4/20][4/8]鉴别器G损失:0.614028 生成器D损失：3.6459真数据判真比例：0.877239 假数据判真比例：0.336541/0.040288\n",
            "[4/20][5/8]鉴别器G损失:0.893968 生成器D损失：1.57389真数据判真比例：0.539896 假数据判真比例：0.125114/0.242873\n",
            "[4/20][6/8]鉴别器G损失:0.833959 生成器D损失：3.53303真数据判真比例：0.87286 假数据判真比例：0.464861/0.0378047\n",
            "[4/20][7/8]鉴别器G损失:0.757442 生成器D损失：2.11769真数据判真比例：0.566335 假数据判真比例：0.0838876/0.150573\n",
            "[5/20][0/8]鉴别器G损失:0.464672 生成器D损失：2.64617真数据判真比例：0.878016 假数据判真比例：0.262342/0.0907059\n",
            "[5/20][1/8]鉴别器G损失:0.612663 生成器D损失：2.62494真数据判真比例：0.747749 假数据判真比例：0.238719/0.0883819\n",
            "[5/20][2/8]鉴别器G损失:0.471911 生成器D损失：3.14871真数据判真比例：0.837 假数据判真比例：0.230599/0.0538205\n",
            "[5/20][3/8]鉴别器G损失:0.523959 生成器D损失：2.57036真数据判真比例：0.745508 假数据判真比例：0.17155/0.0919352\n",
            "[5/20][4/8]鉴别器G损失:0.656746 生成器D损失：3.72498真数据判真比例：0.830616 假数据判真比例：0.34371/0.0307663\n",
            "[5/20][5/8]鉴别器G损失:0.843068 生成器D损失：1.28027真数据判真比例：0.52554 假数据判真比例：0.0805816/0.308492\n",
            "[5/20][6/8]鉴别器G损失:1.10805 生成器D损失：4.81236真数据判真比例：0.920328 假数据判真比例：0.599876/0.0121411\n",
            "[5/20][7/8]鉴别器G损失:1.05228 生成器D损失：2.43025真数据判真比例：0.433719 假数据判真比例：0.0273058/0.115496\n",
            "[6/20][0/8]鉴别器G损失:0.543425 生成器D损失：2.51865真数据判真比例：0.873302 假数据判真比例：0.302693/0.1055\n",
            "[6/20][1/8]鉴别器G损失:0.500457 生成器D损失：3.77543真数据判真比例：0.891609 假数据判真比例：0.294485/0.0309784\n",
            "[6/20][2/8]鉴别器G损失:0.665997 生成器D损失：2.11853真数据判真比例：0.620972 假数据判真比例：0.0910499/0.14805\n",
            "[6/20][3/8]鉴别器G损失:0.745207 生成器D损失：2.95993真数据判真比例：0.855099 假数据判真比例：0.383344/0.0761917\n",
            "[6/20][4/8]鉴别器G损失:0.60949 生成器D损失：3.07941真数据判真比例：0.756949 假数据判真比例：0.222629/0.0685286\n",
            "[6/20][5/8]鉴别器G损失:0.59778 生成器D损失：2.4772真数据判真比例：0.71825 假数据判真比例：0.192524/0.11567\n",
            "[6/20][6/8]鉴别器G损失:1.02741 生成器D损失：1.84882真数据判真比例：0.591703 假数据判真比例：0.31701/0.192423\n",
            "[6/20][7/8]鉴别器G损失:0.885289 生成器D损失：2.57526真数据判真比例：0.697628 假数据判真比例：0.356641/0.0880777\n",
            "[7/20][0/8]鉴别器G损失:0.643152 生成器D损失：3.55888真数据判真比例：0.799082 假数据判真比例：0.313599/0.035155\n",
            "[7/20][1/8]鉴别器G损失:0.472166 生成器D损失：2.97227真数据判真比例：0.71319 假数据判真比例：0.0993231/0.0662812\n",
            "[7/20][2/8]鉴别器G损失:1.07914 生成器D损失：0.722533真数据判真比例：0.455417 假数据判真比例：0.167227/0.52463\n",
            "[7/20][3/8]鉴别器G损失:2.34959 生成器D损失：4.04734真数据判真比例：0.901283 假数据判真比例：0.822766/0.0385418\n",
            "[7/20][4/8]鉴别器G损失:0.504589 生成器D损失：4.38881真数据判真比例：0.678251 假数据判真比例：0.0772202/0.0203962\n",
            "[7/20][5/8]鉴别器G损失:0.926179 生成器D损失：1.71929真数据判真比例：0.491327 假数据判真比例：0.0781046/0.251205\n",
            "[7/20][6/8]鉴别器G损失:1.37546 生成器D损失：2.53158真数据判真比例：0.779819 假数据判真比例：0.57271/0.122761\n",
            "[7/20][7/8]鉴别器G损失:0.831128 生成器D损失：3.43521真数据判真比例：0.733998 假数据判真比例：0.358316/0.0476797\n",
            "[8/20][0/8]鉴别器G损失:0.651114 生成器D损失：2.03797真数据判真比例：0.665551 假数据判真比例：0.150626/0.170162\n",
            "[8/20][1/8]鉴别器G损失:0.834803 生成器D损失：3.03815真数据判真比例：0.804267 假数据判真比例：0.398264/0.0614498\n",
            "[8/20][2/8]鉴别器G损失:0.862022 生成器D损失：2.48518真数据判真比例：0.655667 假数据判真比例：0.264046/0.108508\n",
            "[8/20][3/8]鉴别器G损失:0.6988 生成器D损失：2.10666真数据判真比例：0.708619 假数据判真比例：0.215055/0.149962\n",
            "[8/20][4/8]鉴别器G损失:0.648425 生成器D损失：3.59832真数据判真比例：0.872021 假数据判真比例：0.370641/0.0372528\n",
            "[8/20][5/8]鉴别器G损失:0.826031 生成器D损失：2.03311真数据判真比例：0.565662 假数据判真比例：0.127206/0.160592\n",
            "[8/20][6/8]鉴别器G损失:0.734852 生成器D损失：3.12255真数据判真比例：0.844783 假数据判真比例：0.389653/0.0577826\n",
            "[8/20][7/8]鉴别器G损失:0.517049 生成器D损失：3.13342真数据判真比例：0.754958 假数据判真比例：0.175072/0.0542185\n",
            "[9/20][0/8]鉴别器G损失:0.778986 生成器D损失：1.46624真数据判真比例：0.585942 假数据判真比例：0.116452/0.269193\n",
            "[9/20][1/8]鉴别器G损失:1.08823 生成器D损失：3.90386真数据判真比例：0.872454 假数据判真比例：0.569722/0.0281639\n",
            "[9/20][2/8]鉴别器G损失:0.611544 生成器D损失：3.31224真数据判真比例：0.675867 假数据判真比例：0.132774/0.0546364\n",
            "[9/20][3/8]鉴别器G损失:0.545392 生成器D损失：2.10998真数据判真比例：0.702325 假数据判真比例：0.129451/0.145637\n",
            "[9/20][4/8]鉴别器G损失:0.888742 生成器D损失：3.02真数据判真比例：0.777158 假数据判真比例：0.433732/0.0660603\n",
            "[9/20][5/8]鉴别器G损失:0.492032 生成器D损失：3.31733真数据判真比例：0.783741 假数据判真比例：0.196883/0.0491051\n",
            "[9/20][6/8]鉴别器G损失:0.695318 生成器D损失：2.3106真数据判真比例：0.680564 假数据判真比例：0.204444/0.128116\n",
            "[9/20][7/8]鉴别器G损失:0.918198 生成器D损失：1.70346真数据判真比例：0.62031 假数据判真比例：0.27486/0.224027\n",
            "[10/20][0/8]鉴别器G损失:0.750841 生成器D损失：3.58684真数据判真比例：0.853335 假数据判真比例：0.411196/0.0366725\n",
            "[10/20][1/8]鉴别器G损失:1.34843 生成器D损失：0.920705真数据判真比例：0.357656 假数据判真比例：0.128466/0.4462\n",
            "[10/20][2/8]鉴别器G损失:1.62868 生成器D损失：3.57603真数据判真比例：0.929377 假数据判真比例：0.739942/0.0401613\n",
            "[10/20][3/8]鉴别器G损失:1.2549 生成器D损失：1.75433真数据判真比例：0.378158 假数据判真比例：0.113856/0.212825\n",
            "[10/20][4/8]鉴别器G损失:0.752662 生成器D损失：1.84233真数据判真比例：0.778068 假数据判真比例：0.348245/0.193587\n",
            "[10/20][5/8]鉴别器G损失:0.935178 生成器D损失：3.34179真数据判真比例：0.835623 假数据判真比例：0.491652/0.0463057\n",
            "[10/20][6/8]鉴别器G损失:1.24483 生成器D损失：1.40706真数据判真比例：0.402098 假数据判真比例：0.153132/0.278776\n",
            "[10/20][7/8]鉴别器G损失:0.988509 生成器D损失：2.15714真数据判真比例：0.766853 假数据判真比例：0.475275/0.1315\n",
            "[11/20][0/8]鉴别器G损失:0.940194 生成器D损失：1.57777真数据判真比例：0.56056 假数据判真比例：0.210211/0.243054\n",
            "[11/20][1/8]鉴别器G损失:0.913142 生成器D损失：2.63606真数据判真比例：0.814271 假数据判真比例：0.473917/0.0901795\n",
            "[11/20][2/8]鉴别器G损失:0.916703 生成器D损失：1.63566真数据判真比例：0.551154 假数据判真比例：0.204109/0.228565\n",
            "[11/20][3/8]鉴别器G损失:1.16016 生成器D损失：2.83956真数据判真比例：0.788568 假数据判真比例：0.554415/0.0682263\n",
            "[11/20][4/8]鉴别器G损失:1.14082 生成器D损失：1.33114真数据判真比例：0.446354 假数据判真比例：0.158304/0.301494\n",
            "[11/20][5/8]鉴别器G损失:1.1987 生成器D损失：2.3899真数据判真比例：0.733978 假数据判真比例：0.54242/0.115151\n",
            "[11/20][6/8]鉴别器G损失:0.921013 生成器D损失：2.24672真数据判真比例：0.626753 假数据判真比例：0.287761/0.127622\n",
            "[11/20][7/8]鉴别器G损失:1.07347 生成器D损失：1.3562真数据判真比例：0.545966 假数据判真比例：0.255922/0.304266\n",
            "[12/20][0/8]鉴别器G损失:1.05613 生成器D损失：3.38146真数据判真比例：0.837188 假数据判真比例：0.526461/0.0496384\n",
            "[12/20][1/8]鉴别器G损失:0.908165 生成器D损失：2.0801真数据判真比例：0.50058 假数据判真比例：0.120835/0.160327\n",
            "[12/20][2/8]鉴别器G损失:0.711652 生成器D损失：1.99054真数据判真比例：0.735675 假数据判真比例：0.28445/0.17971\n",
            "[12/20][3/8]鉴别器G损失:0.525472 生成器D损失：3.08538真数据判真比例：0.85273 假数据判真比例：0.277568/0.0649709\n",
            "[12/20][4/8]鉴别器G损失:0.56079 生成器D损失：2.6674真数据判真比例：0.721566 假数据判真比例：0.172961/0.0953168\n",
            "[12/20][5/8]鉴别器G损失:0.507728 生成器D损失：2.49314真数据判真比例：0.793493 假数据判真比例：0.216579/0.104938\n",
            "[12/20][6/8]鉴别器G损失:0.775711 生成器D损失：2.94059真数据判真比例：0.756857 假数据判真比例：0.335975/0.070002\n",
            "[12/20][7/8]鉴别器G损失:0.747794 生成器D损失：2.17265真数据判真比例：0.642465 假数据判真比例：0.218259/0.139474\n",
            "[13/20][0/8]鉴别器G损失:0.67112 生成器D损失：2.89397真数据判真比例：0.780545 假数据判真比例：0.311425/0.0661659\n",
            "[13/20][1/8]鉴别器G损失:0.728157 生成器D损失：2.64776真数据判真比例：0.682787 假数据判真比例：0.25922/0.0898753\n",
            "[13/20][2/8]鉴别器G损失:0.512651 生成器D损失：3.12013真数据判真比例：0.786436 假数据判真比例：0.213954/0.0531021\n",
            "[13/20][3/8]鉴别器G损失:0.428991 生成器D损失：2.81578真数据判真比例：0.782873 假数据判真比例：0.148194/0.0778377\n",
            "[13/20][4/8]鉴别器G损失:0.613008 生成器D损失：2.55115真数据判真比例：0.725543 假数据判真比例：0.211328/0.10127\n",
            "[13/20][5/8]鉴别器G损失:0.49561 生成器D损失：3.81251真数据判真比例：0.871524 假数据判真比例：0.279873/0.0313111\n",
            "[13/20][6/8]鉴别器G损失:0.303051 生成器D损失：3.8669真数据判真比例：0.858339 假数据判真比例：0.125322/0.0311439\n",
            "[13/20][7/8]鉴别器G损失:0.667262 生成器D损失：1.9691真数据判真比例：0.64088 假数据判真比例：0.111495/0.179515\n",
            "[14/20][0/8]鉴别器G损失:1.09676 生成器D损失：4.92032真数据判真比例：0.890898 假数据判真比例：0.56441/0.0133187\n",
            "[14/20][1/8]鉴别器G损失:0.747149 生成器D损失：3.0181真数据判真比例：0.593547 假数据判真比例：0.102702/0.0636052\n",
            "[14/20][2/8]鉴别器G损失:0.648183 生成器D损失：2.32553真数据判真比例：0.730582 假数据判真比例：0.242847/0.117446\n",
            "[14/20][3/8]鉴别器G损失:0.803166 生成器D损失：4.49014真数据判真比例：0.876511 假数据判真比例：0.459732/0.0145242\n",
            "[14/20][4/8]鉴别器G损失:0.891032 生成器D损失：2.65949真数据判真比例：0.501013 假数据判真比例：0.0505188/0.0842741\n",
            "[14/20][5/8]鉴别器G损失:0.590763 生成器D损失：2.83948真数据判真比例：0.836427 假数据判真比例：0.296442/0.0772719\n",
            "[14/20][6/8]鉴别器G损失:0.47128 生成器D损失：3.76427真数据判真比例：0.877156 假数据判真比例：0.271868/0.0306696\n",
            "[14/20][7/8]鉴别器G损失:0.438594 生成器D损失：3.30403真数据判真比例：0.790227 假数据判真比例：0.152151/0.04866\n",
            "[15/20][0/8]鉴别器G损失:0.543529 生成器D损失：2.84543真数据判真比例：0.79136 假数据判真比例：0.228884/0.0739829\n",
            "[15/20][1/8]鉴别器G损失:0.883261 生成器D损失：3.84669真数据判真比例：0.783278 假数据判真比例：0.423364/0.0283642\n",
            "[15/20][2/8]鉴别器G损失:0.827201 生成器D损失：2.16757真数据判真比例：0.568687 假数据判真比例：0.145212/0.135527\n",
            "[15/20][3/8]鉴别器G损失:0.975557 生成器D损失：3.23707真数据判真比例：0.746199 假数据判真比例：0.448444/0.0526839\n",
            "[15/20][4/8]鉴别器G损失:0.96531 生成器D损失：1.88399真数据判真比例：0.532482 假数据判真比例：0.173126/0.190364\n",
            "[15/20][5/8]鉴别器G损失:0.636404 生成器D损失：3.13285真数据判真比例：0.840294 假数据判真比例：0.325207/0.0618322\n",
            "[15/20][6/8]鉴别器G损失:0.567855 生成器D损失：2.68385真数据判真比例：0.728936 假数据判真比例：0.178638/0.0942835\n",
            "[15/20][7/8]鉴别器G损失:0.473065 生成器D损失：3.31804真数据判真比例：0.841012 假数据判真比例：0.233869/0.0508299\n",
            "[16/20][0/8]鉴别器G损失:0.334613 生成器D损失：3.1978真数据判真比例：0.8554 假数据判真比例：0.141758/0.0554354\n",
            "[16/20][1/8]鉴别器G损失:0.480098 生成器D损失：2.47351真数据判真比例：0.776138 假数据判真比例：0.172853/0.104265\n",
            "[16/20][2/8]鉴别器G损失:0.631439 生成器D损失：3.36725真数据判真比例：0.832742 假数据判真比例：0.335101/0.044413\n",
            "[16/20][3/8]鉴别器G损失:0.663124 生成器D损失：1.91491真数据判真比例：0.635667 假数据判真比例：0.13219/0.168786\n",
            "[16/20][4/8]鉴别器G损失:0.884615 生成器D损失：3.23112真数据判真比例：0.793949 假数据判真比例：0.43033/0.0589661\n",
            "[16/20][5/8]鉴别器G损失:0.861888 生成器D损失：1.86463真数据判真比例：0.584947 假数据判真比例：0.17907/0.182356\n",
            "[16/20][6/8]鉴别器G损失:0.809466 生成器D损失：2.56959真数据判真比例：0.766385 假数据判真比例：0.378156/0.0926955\n",
            "[16/20][7/8]鉴别器G损失:0.561768 生成器D损失：1.88681真数据判真比例：0.718006 假数据判真比例：0.155051/0.176489\n",
            "[17/20][0/8]鉴别器G损失:0.586649 生成器D损失：4.28666真数据判真比例：0.836611 假数据判真比例：0.306509/0.0208621\n",
            "[17/20][1/8]鉴别器G损失:0.821578 生成器D损失：1.54081真数据判真比例：0.519426 假数据判真比例：0.0514595/0.242965\n",
            "[17/20][2/8]鉴别器G损失:0.633361 生成器D损失：2.80194真数据判真比例：0.913557 假数据判真比例：0.391922/0.0708956\n",
            "[17/20][3/8]鉴别器G损失:0.521767 生成器D损失：2.68234真数据判真比例：0.768213 假数据判真比例：0.196864/0.0760338\n",
            "[17/20][4/8]鉴别器G损失:0.795847 生成器D损失：1.23098真数据判真比例：0.588899 假数据判真比例：0.165351/0.327728\n",
            "[17/20][5/8]鉴别器G损失:1.2176 生成器D损失：3.08633真数据判真比例：0.898412 假数据判真比例：0.629326/0.0804681\n",
            "[17/20][6/8]鉴别器G损失:0.873775 生成器D损失：0.848523真数据判真比例：0.531998 假数据判真比例：0.124919/0.453721\n",
            "[17/20][7/8]鉴别器G损失:0.905744 生成器D损失：5.21326真数据判真比例：0.842299 假数据判真比例：0.494718/0.00812687\n",
            "[18/20][0/8]鉴别器G损失:1.5783 生成器D损失：1.41678真数据判真比例：0.268619 假数据判真比例：0.0229174/0.279796\n",
            "[18/20][1/8]鉴别器G损失:0.622991 生成器D损失：1.63862真数据判真比例：0.792402 假数据判真比例：0.296008/0.224383\n",
            "[18/20][2/8]鉴别器G损失:0.676561 生成器D损失：3.57157真数据判真比例：0.912611 假数据判真比例：0.417762/0.0374975\n",
            "[18/20][3/8]鉴别器G损失:0.538489 生成器D损失：1.78647真数据判真比例：0.654243 假数据判真比例：0.0614911/0.205532\n",
            "[18/20][4/8]鉴别器G损失:0.784598 生成器D损失：3.3074真数据判真比例：0.856542 假数据判真比例：0.423883/0.0515393\n",
            "[18/20][5/8]鉴别器G损失:0.58097 生成器D损失：2.47325真数据判真比例：0.648231 假数据判真比例：0.078655/0.102267\n",
            "[18/20][6/8]鉴别器G损失:0.677583 生成器D损失：2.23979真数据判真比例：0.802357 假数据判真比例：0.338378/0.127917\n",
            "[18/20][7/8]鉴别器G损失:0.440739 生成器D损失：2.55484真数据判真比例：0.784279 假数据判真比例：0.16175/0.0923233\n",
            "[19/20][0/8]鉴别器G损失:0.577064 生成器D损失：2.07683真数据判真比例：0.736964 假数据判真比例：0.210058/0.145909\n",
            "[19/20][1/8]鉴别器G损失:0.594678 生成器D损失：2.51735真数据判真比例：0.799335 假数据判真比例：0.283909/0.0964021\n",
            "[19/20][2/8]鉴别器G损失:0.486208 生成器D损失：3.02513真数据判真比例：0.840321 假数据判真比例：0.247749/0.0579778\n",
            "[19/20][3/8]鉴别器G损失:0.469383 生成器D损失：2.41887真数据判真比例：0.72237 假数据判真比例：0.103409/0.11538\n",
            "[19/20][4/8]鉴别器G损失:0.451449 生成器D损失：2.67831真数据判真比例：0.82203 假数据判真比例：0.203815/0.0842996\n",
            "[19/20][5/8]鉴别器G损失:0.466142 生成器D损失：2.97177真数据判真比例：0.851156 假数据判真比例：0.242062/0.064953\n",
            "[19/20][6/8]鉴别器G损失:0.479093 生成器D损失：2.35255真数据判真比例：0.719545 假数据判真比例：0.108296/0.114576\n",
            "[19/20][7/8]鉴别器G损失:0.514161 生成器D损失：2.74219真数据判真比例：0.87345 假数据判真比例：0.290303/0.0798534\n",
            "1.7728733777999879\n"
          ],
          "name": "stdout"
        }
      ]
    },
    {
      "cell_type": "markdown",
      "metadata": {
        "id": "2Xn9jAPvFumE",
        "colab_type": "text"
      },
      "source": [
        "Save the checkpoints,"
      ]
    },
    {
      "cell_type": "code",
      "metadata": {
        "id": "Eiv_B_zFKM98",
        "colab_type": "code",
        "colab": {}
      },
      "source": [
        "torch.save(dnet.state_dict(),'/content/drive/My Drive/Imagedataset/D.pth')\n",
        "torch.save(gnet.state_dict(),'/content/drive/My Drive/Imagedataset/G.pth')"
      ],
      "execution_count": 0,
      "outputs": []
    },
    {
      "cell_type": "markdown",
      "metadata": {
        "id": "e8mi0AsFrF7H",
        "colab_type": "text"
      },
      "source": [
        "![替代文字](http://47.98.218.142/wp-content/uploads/2019/09/gpu09_batch700.png)\n",
        "\n",
        "The 32x32 images generated by Generator."
      ]
    },
    {
      "cell_type": "markdown",
      "metadata": {
        "colab_type": "text",
        "id": "GthXW7o1YMxc"
      },
      "source": [
        "Use torchgan to generate larger size imgaes."
      ]
    },
    {
      "cell_type": "code",
      "metadata": {
        "id": "cdgJNfdBLXoM",
        "colab_type": "code",
        "outputId": "b5cd174c-3d92-48be-b858-2b35caaec6df",
        "colab": {
          "base_uri": "https://localhost:8080/",
          "height": 85
        }
      },
      "source": [
        "!pip install torchgan\n",
        "import torch\n",
        "import torchvision\n",
        "from torch.optim import Adam\n",
        "import torch.utils.data as data\n",
        "import torchvision.datasets as dsets\n",
        "import torchvision.transforms as transforms\n",
        "import torchgan\n",
        "from torchgan.models import DCGANGenerator, DCGANDiscriminator\n",
        "from torchgan.losses import MinimaxGeneratorLoss, MinimaxDiscriminatorLoss\n",
        "from torchgan.trainer import Trainer"
      ],
      "execution_count": 1,
      "outputs": [
        {
          "output_type": "stream",
          "text": [
            "Requirement already satisfied: torchgan in /usr/local/lib/python3.6/dist-packages (0.0.3)\n",
            "Requirement already satisfied: pillow==5.3.0 in /usr/local/lib/python3.6/dist-packages (from torchgan) (5.3.0)\n",
            "Requirement already satisfied: numpy in /usr/local/lib/python3.6/dist-packages (from torchgan) (1.16.5)\n",
            "Requirement already satisfied: fastprogress in /usr/local/lib/python3.6/dist-packages (from torchgan) (0.1.21)\n"
          ],
          "name": "stdout"
        }
      ]
    },
    {
      "cell_type": "code",
      "metadata": {
        "id": "jgNFm9AgLbZs",
        "colab_type": "code",
        "colab": {}
      },
      "source": [
        "train_data = dsets.ImageFolder('/content/drive/My Drive/Imagedataset', transform=transforms.Compose([\n",
        "    transforms.RandomResizedCrop(128),\n",
        "    transforms.RandomHorizontalFlip(),\n",
        "    \n",
        "    transforms.ToTensor(),\n",
        "    transforms.Normalize((0.5, 0.5, 0.5), (0.5, 0.5, 0.5))\n",
        "]))\n",
        "dataloader = torch.utils.data.DataLoader(train_data,\n",
        "                                            batch_size=128,\n",
        "                                            shuffle=True,\n",
        "                                            num_workers=8\n",
        "                                            \n",
        "                                            )"
      ],
      "execution_count": 0,
      "outputs": []
    },
    {
      "cell_type": "code",
      "metadata": {
        "id": "V3o1AnvsLd8z",
        "colab_type": "code",
        "colab": {}
      },
      "source": [
        "trainer = Trainer({\"generator\": {\"name\": DCGANGenerator, \"args\": {\"out_channels\": 3, \"step_channels\": 64,\"out_size\":128}, \"optimizer\": {\"name\": Adam, \"args\": {\"lr\": 0.0002, \"betas\": (0.5, 0.999)}}},\n",
        "                   \"discriminator\": {\"name\": DCGANDiscriminator, \"args\": {\"in_channels\": 3, \"step_channels\": 64,\"in_size\":128}, \"optimizer\": {\"name\": Adam, \"args\": {\"lr\": 0.0002, \"betas\": (0.5, 0.999)}}}},\n",
        "                  [MinimaxGeneratorLoss(), MinimaxDiscriminatorLoss()],\n",
        "                  sample_size=1, epochs=20)\n",
        "\n",
        "#trainer(cifar10_dataloader())"
      ],
      "execution_count": 0,
      "outputs": []
    },
    {
      "cell_type": "code",
      "metadata": {
        "id": "Sj1M9u85LehD",
        "colab_type": "code",
        "colab": {}
      },
      "source": [
        "trainer(dataloader)"
      ],
      "execution_count": 0,
      "outputs": []
    },
    {
      "cell_type": "markdown",
      "metadata": {
        "id": "ZS27nl0YYPOs",
        "colab_type": "text"
      },
      "source": [
        "![替代文字](http://47.98.218.142/wp-content/uploads/2019/09/epoch20_generator-300x300.png)\n",
        "\n",
        "The 128x128 images generated by Generator."
      ]
    },
    {
      "cell_type": "markdown",
      "metadata": {
        "id": "XYyZvJxDGlKU",
        "colab_type": "text"
      },
      "source": [
        "# 4 Evaluation\n",
        "\n"
      ]
    },
    {
      "cell_type": "markdown",
      "metadata": {
        "id": "FYQMIkDiVbvv",
        "colab_type": "text"
      },
      "source": [
        "Use Inception Score Fcuntion to evaluate the generator of the models.\n",
        "\n",
        "**For 32x32 image size model:**\n",
        "\n"
      ]
    },
    {
      "cell_type": "code",
      "metadata": {
        "id": "OcoMQ6KraWuH",
        "colab_type": "code",
        "colab": {
          "base_uri": "https://localhost:8080/",
          "height": 139
        },
        "outputId": "ee04833d-20e6-4158-ea48-5df0108d7c29"
      },
      "source": [
        "checkpoint_d = torch.load('/content/drive/My Drive/D.pth')\n",
        "checkpoint_g = torch.load('/content/drive/My Drive/G.pth')\n",
        "dnet.load_state_dict(checkpoint_d)\n",
        "gnet.load_state_dict(checkpoint_g)\n",
        "\n",
        "\n",
        "batch_size=1024\n",
        "latent_size=100\n",
        "noises = torch.randn(batch_size, latent_size, 1, 1)\n",
        "fake_images = gnet(noises.type(Tensor))\n",
        "inception_score(fake_images, cuda=True, batch_size=4, resize=True,splits=32)"
      ],
      "execution_count": 14,
      "outputs": [
        {
          "output_type": "stream",
          "text": [
            "Downloading: \"https://download.pytorch.org/models/inception_v3_google-1a9a5a14.pth\" to /root/.cache/torch/checkpoints/inception_v3_google-1a9a5a14.pth\n",
            "100%|██████████| 108857766/108857766 [00:01<00:00, 101326496.46it/s]\n",
            "/usr/local/lib/python3.6/dist-packages/torch/nn/functional.py:2539: UserWarning: Default upsampling behavior when mode=bilinear is changed to align_corners=False since 0.4.0. Please specify align_corners=True if the old behavior is desired. See the documentation of nn.Upsample for details.\n",
            "  \"See the documentation of nn.Upsample for details.\".format(mode))\n",
            "/usr/local/lib/python3.6/dist-packages/ipykernel_launcher.py:43: UserWarning: Implicit dimension choice for softmax has been deprecated. Change the call to include dim=X as an argument.\n"
          ],
          "name": "stderr"
        },
        {
          "output_type": "execute_result",
          "data": {
            "text/plain": [
              "(2.64709652685836, 0.24470160438758973)"
            ]
          },
          "metadata": {
            "tags": []
          },
          "execution_count": 14
        }
      ]
    },
    {
      "cell_type": "markdown",
      "metadata": {
        "id": "ndbos-oWkFGo",
        "colab_type": "text"
      },
      "source": [
        "\n",
        "The mean inception score is 2.64709652685836,the std inception score is 0.24470160438758973.\n",
        "\n",
        "\n",
        "Due to the size of the image is too small, although the model training is very fast, and iterated about 30 times, the generated clothing picture is still very vague."
      ]
    },
    {
      "cell_type": "markdown",
      "metadata": {
        "id": "N01DCTcZaYJc",
        "colab_type": "text"
      },
      "source": [
        "**For 128x128 image size model:**"
      ]
    },
    {
      "cell_type": "code",
      "metadata": {
        "id": "D8nz5TAVbj7P",
        "colab_type": "code",
        "colab": {
          "base_uri": "https://localhost:8080/",
          "height": 105
        },
        "outputId": "a7f2bfa4-4c58-4a69-e2a9-b7f15e93350c"
      },
      "source": [
        "trainer.discriminator.load_state_dict(torch.load('/content/drive/My Drive/D_torchgan.pth'))\n",
        "trainer.generator.load_state_dict(torch.load('/content/drive/My Drive/G_torchgan.pth'))\n",
        "\n",
        "batch_size=256\n",
        "latent_size=100\n",
        "noises = torch.randn(batch_size, latent_size, 1, 1)\n",
        "fake_images = trainer.generator(noises.type(Tensor))\n",
        "inception_score(fake_images, cuda=True, batch_size=4, resize=True,splits=32)"
      ],
      "execution_count": 17,
      "outputs": [
        {
          "output_type": "stream",
          "text": [
            "/usr/local/lib/python3.6/dist-packages/torch/nn/functional.py:2539: UserWarning: Default upsampling behavior when mode=bilinear is changed to align_corners=False since 0.4.0. Please specify align_corners=True if the old behavior is desired. See the documentation of nn.Upsample for details.\n",
            "  \"See the documentation of nn.Upsample for details.\".format(mode))\n",
            "/usr/local/lib/python3.6/dist-packages/ipykernel_launcher.py:43: UserWarning: Implicit dimension choice for softmax has been deprecated. Change the call to include dim=X as an argument.\n"
          ],
          "name": "stderr"
        },
        {
          "output_type": "execute_result",
          "data": {
            "text/plain": [
              "(2.672775421380628, 0.38557387070852506)"
            ]
          },
          "metadata": {
            "tags": []
          },
          "execution_count": 17
        }
      ]
    },
    {
      "cell_type": "markdown",
      "metadata": {
        "id": "pGuUM5rgq4Ox",
        "colab_type": "text"
      },
      "source": [
        "The mean inception score is 2.672775421380628,the std inception score is 0.38557387070852506."
      ]
    },
    {
      "cell_type": "markdown",
      "metadata": {
        "id": "n-hsLimqki7X",
        "colab_type": "text"
      },
      "source": [
        "Due to the increase in image size, the training difficulty is much increased, the model training rate is very low, and iteration takes one and a half hours. So there is no perfect training."
      ]
    },
    {
      "cell_type": "markdown",
      "metadata": {
        "id": "-Jf3ZdX9fN03",
        "colab_type": "text"
      },
      "source": [
        "**Report about Execution on Data:**\n",
        "\n",
        "The project used 32×32 and 128×128 two image sizes for training the model.\n",
        "When training 32x32 size images, the model's iteration speed ratio is much faster. And using the same batch_size will take up more small memory, and after alternating the same number of times, the model generated by the 32x32 size image will work better. However, due to the small size of the picture, the generated image is still blurred after a period of training.\n",
        "When training a model of a 128×128 size image, the training efficiency is much slower than the former. However, due to the advantages of image size, the performance limit of the model is significantly higher than the previous model.\n",
        "\n",
        "\n",
        "**Efficiency Analysis:**\n",
        "\n",
        "When it is not necessary to generate high-definition clothing pictures, the efficiency of model training using low-size pictures is very high.\n",
        "\n",
        "When the other conditions are the same, the higher the batch_size is, the faster the iteration is."
      ]
    },
    {
      "cell_type": "markdown",
      "metadata": {
        "id": "fwhxgx0OIlXt",
        "colab_type": "text"
      },
      "source": [
        "# 5 Conclusion\n",
        "\n",
        "**Reflections**\n",
        "\n",
        "The final two effects of the two models of this project are not very good. Among them, the 128x128 model has a lot of room for improvement. During the development of this project, I learned about neural networks, GAN, and learned to build DCGAN models using pytorch. Learn about the effect of picture size for training models in GAN on training efficiency.\n",
        "\n",
        "**Propose Possible Improvements**\n",
        "\n",
        "\n",
        "1. I want to train the model of 128x128 for a longer time, such as 100 hours, and then observe the performance of the model to generate images.\n",
        "2. I want to add features that can adjust the type and style of the clothing. At present, I understand that CGAN, StyleGan and other models can be used to achieve this requirement, but due to limited time, this function is not implemented."
      ]
    },
    {
      "cell_type": "markdown",
      "metadata": {
        "id": "vePc3vD3InZk",
        "colab_type": "text"
      },
      "source": [
        "# 6 Ethical discussion\n",
        "The stakeholders of this project are fashion designers, clothing consumers, clothing manufacturers and governments. And I think the development of this project will not cause moral damage to these stakeholders.\n",
        "Moreover, the model of the project's generated clothing is currently not better than the human designer, and the employment of human designers will not be greatly affected. Even if the ability to create a model of clothing in the future exceeds that of a human designer and replaces a part of a human designer, I think this is morally okay. An excellent artificial intelligence designer will greatly increase the productivity of apparel design, and people can shift the workforce to improve the performance of the model or transfer labor to other areas.\n",
        "\n",
        "However, due to this powerful ability to generate almost unlimited costumes, some people may use this model to train new human designers' new clothing, and then claim that these designers copied the clothing generated in their models. When the performance of this model is very high, it may be difficult to determine whether a particular garment is real or model-generated."
      ]
    }
  ]
}